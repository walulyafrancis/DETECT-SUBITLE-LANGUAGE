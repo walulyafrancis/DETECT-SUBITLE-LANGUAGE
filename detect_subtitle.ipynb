{
 "cells": [
  {
   "cell_type": "code",
   "execution_count": 3,
   "metadata": {},
   "outputs": [],
   "source": [
    "import os\n",
    "from langdetect import detect\n",
    "import langid\n",
    "import json"
   ]
  },
  {
   "cell_type": "code",
   "execution_count": 4,
   "metadata": {},
   "outputs": [],
   "source": [
    "\n",
    "f = open('languages.json')\n",
    "langauges = json.load(f)\n",
    "f.close()\n",
    "\n",
    "def getLangaguge(isocode):\n",
    "    for lang in langauges:\n",
    "        if lang[\"code\"].lower() == isocode.lower():\n",
    "            return lang\n",
    "    return None"
   ]
  },
  {
   "cell_type": "code",
   "execution_count": 5,
   "metadata": {},
   "outputs": [],
   "source": [
    "main_dir = \"DestinedWithYou\"\n",
    "dirs = os.listdir(main_dir)"
   ]
  },
  {
   "cell_type": "code",
   "execution_count": 10,
   "metadata": {},
   "outputs": [
    {
     "name": "stdout",
     "output_type": "stream",
     "text": [
      "{'code': 'el', 'name': 'Greek, Modern (1453-)'}\n",
      "{'code': 'en', 'name': 'English'}\n",
      "{'code': 'pt', 'name': 'Portuguese'}\n",
      "{'code': 'id', 'name': 'Indonesian'}\n",
      "{'code': 'en', 'name': 'English'}\n",
      "{'code': 'el', 'name': 'Greek, Modern (1453-)'}\n",
      "{'code': 'en', 'name': 'English'}\n",
      "{'code': 'en', 'name': 'English'}\n",
      "{'code': 'el', 'name': 'Greek, Modern (1453-)'}\n",
      "{'code': 'en', 'name': 'English'}\n",
      "{'code': 'en', 'name': 'English'}\n",
      "{'code': 'el', 'name': 'Greek, Modern (1453-)'}\n",
      "{'code': 'en', 'name': 'English'}\n",
      "{'code': 'pt', 'name': 'Portuguese'}\n",
      "{'code': 'en', 'name': 'English'}\n",
      "{'code': 'en', 'name': 'English'}\n",
      "{'code': 'pt', 'name': 'Portuguese'}\n",
      "{'code': 'en', 'name': 'English'}\n",
      "{'code': 'pt', 'name': 'Portuguese'}\n",
      "{'code': 'en', 'name': 'English'}\n",
      "{'code': 'en', 'name': 'English'}\n",
      "{'code': 'en', 'name': 'English'}\n",
      "{'code': 'pt', 'name': 'Portuguese'}\n",
      "{'code': 'cs', 'name': 'Czech'}\n",
      "{'code': 'pt', 'name': 'Portuguese'}\n",
      "{'code': 'en', 'name': 'English'}\n",
      "{'code': 'en', 'name': 'English'}\n",
      "{'code': 'pt', 'name': 'Portuguese'}\n",
      "{'code': 'pt', 'name': 'Portuguese'}\n",
      "{'code': 'en', 'name': 'English'}\n",
      "{'code': 'pt', 'name': 'Portuguese'}\n",
      "{'code': 'en', 'name': 'English'}\n",
      "{'code': 'en', 'name': 'English'}\n",
      "{'code': 'pt', 'name': 'Portuguese'}\n",
      "{'code': 'en', 'name': 'English'}\n"
     ]
    }
   ],
   "source": [
    "for dir in dirs:\n",
    "    dir_path = os.path.join(main_dir, dir)\n",
    "    files = os.listdir(dir_path)\n",
    "    #print(files)\n",
    "    for file in files:\n",
    "        file_path = os.path.join(dir_path, file)\n",
    "        with open(file_path, \"r+\", encoding=\"utf-8\") as f:\n",
    "            text = f.read()\n",
    "            isocode = detect(text)\n",
    "            langauge = getLangaguge(isocode)\n",
    "            if not langauge == None:\n",
    "                filename, file_extension = os.path.splitext(file_path)\n",
    "                new_filename = f\"{langauge['code']}_{langauge['name']}{file_extension}\"\n",
    "                result_drectory = f\"{dir_path}/results\"\n",
    "                if not os.path.exists(result_drectory):\n",
    "                    os.mkdir(result_drectory)           \n",
    "                new_file_path = os.path.join(result_drectory, new_filename)\n",
    "                if not os.path.exists(new_file_path):\n",
    "                    with open(new_file_path, \"w+\", encoding=\"utf-8\") as f2:\n",
    "                        f2.write(text)\n",
    "                        f2.close()\n",
    "            print(langauge)\n",
    "            f.close()\n",
    "                \n",
    "        \n",
    "        # isocode = langid.classify(text)\n",
    "        #    print(f\"{} - {file}\")"
   ]
  }
 ],
 "metadata": {
  "kernelspec": {
   "display_name": "Python 3",
   "language": "python",
   "name": "python3"
  },
  "language_info": {
   "codemirror_mode": {
    "name": "ipython",
    "version": 3
   },
   "file_extension": ".py",
   "mimetype": "text/x-python",
   "name": "python",
   "nbconvert_exporter": "python",
   "pygments_lexer": "ipython3",
   "version": "3.11.0b5"
  }
 },
 "nbformat": 4,
 "nbformat_minor": 2
}
